{
 "cells": [
  {
   "cell_type": "code",
   "execution_count": null,
   "metadata": {},
   "outputs": [],
   "source": [
    "umur = input ('Silahkan masukkan angka usia Anda dalam tahun ')\n",
    "if umur < 0:\n",
    "    print('error')\n",
    "elif 0 <= umur < 1:\n",
    "    print ('Klasifikasi usia anda adalah bayi')\n",
    "elif 1 <= umur < 13:\n",
    "    print ('Klasifikasi usia anda adalah anak-anak')\n",
    "elif 13 <= umur <= 18:\n",
    "    print ('Klasifikasi usia anda adalah remaja')\n",
    "elif 18 < umur < 35:\n",
    "    print ('Klasifikasi usia anda adalah dewasa')\n",
    "else:\n",
    "    print('Klasifikasi usia anda adalah manula')"
   ]
  },
  {
   "cell_type": "code",
   "execution_count": null,
   "metadata": {},
   "outputs": [],
   "source": []
  },
  {
   "cell_type": "code",
   "execution_count": null,
   "metadata": {},
   "outputs": [],
   "source": []
  },
  {
   "cell_type": "code",
   "execution_count": null,
   "metadata": {},
   "outputs": [],
   "source": []
  }
 ],
 "metadata": {
  "kernelspec": {
   "display_name": "Python 2",
   "language": "python",
   "name": "python2"
  },
  "language_info": {
   "codemirror_mode": {
    "name": "ipython",
    "version": 2
   },
   "file_extension": ".py",
   "mimetype": "text/x-python",
   "name": "python",
   "nbconvert_exporter": "python",
   "pygments_lexer": "ipython2",
   "version": "2.7.16"
  }
 },
 "nbformat": 4,
 "nbformat_minor": 2
}
